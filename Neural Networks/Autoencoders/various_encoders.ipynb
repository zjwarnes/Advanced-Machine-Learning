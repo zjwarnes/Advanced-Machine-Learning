{
 "nbformat": 4,
 "nbformat_minor": 2,
 "metadata": {
  "language_info": {
   "name": "python",
   "codemirror_mode": {
    "name": "ipython",
    "version": 3
   },
   "version": "3.7.3-final"
  },
  "orig_nbformat": 2,
  "file_extension": ".py",
  "mimetype": "text/x-python",
  "name": "python",
  "npconvert_exporter": "python",
  "pygments_lexer": "ipython3",
  "version": 3,
  "kernelspec": {
   "name": "python3",
   "display_name": "Python 3"
  }
 },
 "cells": [
  {
   "cell_type": "code",
   "execution_count": 2,
   "metadata": {},
   "outputs": [
    {
     "name": "stderr",
     "output_type": "stream",
     "text": "C:\\Users\\zjwar\\Anaconda3\\lib\\site-packages\\tensorflow\\python\\framework\\dtypes.py:516: FutureWarning: Passing (type, 1) or '1type' as a synonym of type is deprecated; in a future version of numpy, it will be understood as (type, (1,)) / '(1,)type'.\n  _np_qint8 = np.dtype([(\"qint8\", np.int8, 1)])\nC:\\Users\\zjwar\\Anaconda3\\lib\\site-packages\\tensorflow\\python\\framework\\dtypes.py:517: FutureWarning: Passing (type, 1) or '1type' as a synonym of type is deprecated; in a future version of numpy, it will be understood as (type, (1,)) / '(1,)type'.\n  _np_quint8 = np.dtype([(\"quint8\", np.uint8, 1)])\nC:\\Users\\zjwar\\Anaconda3\\lib\\site-packages\\tensorflow\\python\\framework\\dtypes.py:518: FutureWarning: Passing (type, 1) or '1type' as a synonym of type is deprecated; in a future version of numpy, it will be understood as (type, (1,)) / '(1,)type'.\n  _np_qint16 = np.dtype([(\"qint16\", np.int16, 1)])\nC:\\Users\\zjwar\\Anaconda3\\lib\\site-packages\\tensorflow\\python\\framework\\dtypes.py:519: FutureWarning: Passing (type, 1) or '1type' as a synonym of type is deprecated; in a future version of numpy, it will be understood as (type, (1,)) / '(1,)type'.\n  _np_quint16 = np.dtype([(\"quint16\", np.uint16, 1)])\nC:\\Users\\zjwar\\Anaconda3\\lib\\site-packages\\tensorflow\\python\\framework\\dtypes.py:520: FutureWarning: Passing (type, 1) or '1type' as a synonym of type is deprecated; in a future version of numpy, it will be understood as (type, (1,)) / '(1,)type'.\n  _np_qint32 = np.dtype([(\"qint32\", np.int32, 1)])\nC:\\Users\\zjwar\\Anaconda3\\lib\\site-packages\\tensorflow\\python\\framework\\dtypes.py:525: FutureWarning: Passing (type, 1) or '1type' as a synonym of type is deprecated; in a future version of numpy, it will be understood as (type, (1,)) / '(1,)type'.\n  np_resource = np.dtype([(\"resource\", np.ubyte, 1)])\nC:\\Users\\zjwar\\Anaconda3\\lib\\site-packages\\tensorboard\\compat\\tensorflow_stub\\dtypes.py:541: FutureWarning: Passing (type, 1) or '1type' as a synonym of type is deprecated; in a future version of numpy, it will be understood as (type, (1,)) / '(1,)type'.\n  _np_qint8 = np.dtype([(\"qint8\", np.int8, 1)])\nC:\\Users\\zjwar\\Anaconda3\\lib\\site-packages\\tensorboard\\compat\\tensorflow_stub\\dtypes.py:542: FutureWarning: Passing (type, 1) or '1type' as a synonym of type is deprecated; in a future version of numpy, it will be understood as (type, (1,)) / '(1,)type'.\n  _np_quint8 = np.dtype([(\"quint8\", np.uint8, 1)])\nC:\\Users\\zjwar\\Anaconda3\\lib\\site-packages\\tensorboard\\compat\\tensorflow_stub\\dtypes.py:543: FutureWarning: Passing (type, 1) or '1type' as a synonym of type is deprecated; in a future version of numpy, it will be understood as (type, (1,)) / '(1,)type'.\n  _np_qint16 = np.dtype([(\"qint16\", np.int16, 1)])\nC:\\Users\\zjwar\\Anaconda3\\lib\\site-packages\\tensorboard\\compat\\tensorflow_stub\\dtypes.py:544: FutureWarning: Passing (type, 1) or '1type' as a synonym of type is deprecated; in a future version of numpy, it will be understood as (type, (1,)) / '(1,)type'.\n  _np_quint16 = np.dtype([(\"quint16\", np.uint16, 1)])\nC:\\Users\\zjwar\\Anaconda3\\lib\\site-packages\\tensorboard\\compat\\tensorflow_stub\\dtypes.py:545: FutureWarning: Passing (type, 1) or '1type' as a synonym of type is deprecated; in a future version of numpy, it will be understood as (type, (1,)) / '(1,)type'.\n  _np_qint32 = np.dtype([(\"qint32\", np.int32, 1)])\nC:\\Users\\zjwar\\Anaconda3\\lib\\site-packages\\tensorboard\\compat\\tensorflow_stub\\dtypes.py:550: FutureWarning: Passing (type, 1) or '1type' as a synonym of type is deprecated; in a future version of numpy, it will be understood as (type, (1,)) / '(1,)type'.\n  np_resource = np.dtype([(\"resource\", np.ubyte, 1)])\n"
    }
   ],
   "source": [
    "import tensorflow as tf\n",
    "import numpy as np\n",
    "import math\n",
    "import pandas as pd\n",
    "import random\n",
    "from tensorflow.examples.tutorials.mnist import input_data\n",
    "import matplotlib.pyplot as plt\n",
    "import pyodbc\n",
    "from sklearn.model_selection import train_test_split\n",
    "\n"
   ]
  },
  {
   "cell_type": "code",
   "execution_count": 3,
   "metadata": {},
   "outputs": [],
   "source": [
    "# Input weights initialization function\n",
    "def xavier_init(fan_in, fan_out, constant = 1):\n",
    "    low = -constant * np.sqrt(6.0 / (fan_in + fan_out))\n",
    "    high = constant * np.sqrt(6.0 / (fan_in + fan_out))\n",
    "    return tf.random_uniform((fan_in, fan_out), minval = low, maxval = high, dtype = tf.float32)\n",
    "\n"
   ]
  },
  {
   "cell_type": "code",
   "execution_count": 4,
   "metadata": {},
   "outputs": [],
   "source": [
    "class AdditiveGaussianNoiseAutoencoder(object):\n",
    "\n",
    "    # Input\n",
    "    # n_input - dimension of input\n",
    "    # n_hidden - number of hidden nodes\n",
    "    # transfer_function - activation function to use\n",
    "    # optimizer - Optimizer algorithm to use to train model\n",
    "    # scale - training alpha?\n",
    "\n",
    "    def __init__(self, n_input, n_hidden, transfer_function = tf.nn.sigmoid, optimizer = tf.train.AdamOptimizer(),\n",
    "                 scale = 0.1, sparsity_percentage = 0.05, reg = 0.0):\n",
    "        self.n_input = n_input\n",
    "        self.n_hidden = n_hidden\n",
    "        self.transfer = transfer_function\n",
    "        self.scale = tf.placeholder(tf.float32)\n",
    "        self.training_scale = scale\n",
    "        network_weights = self._initialize_weights()\n",
    "        self.weights = network_weights\n",
    "        self.sparsity_level= np.repeat([sparsity_percentage], self.n_hidden).astype(np.float32)\n",
    "        self.sparse_reg = reg\n",
    "\n",
    "        # model\n",
    "        self.x = tf.placeholder(tf.float32, [None, self.n_input])\n",
    "        \n",
    "        \n",
    "        # Need to wrap this function with competitive layer for KATE\n",
    "        # after the transfer function\n",
    "        self.hidden = self.transfer(\n",
    "            tf.add(\n",
    "                tf.matmul(\n",
    "                    self.x + scale * tf.random_normal((n_input,)),\n",
    "                    self.weights['w1']\n",
    "                ),\n",
    "                self.weights['b1']\n",
    "            )\n",
    "        )\n",
    "        self.reconstruction = tf.add(\n",
    "            tf.matmul(\n",
    "                self.hidden, \n",
    "                self.weights['w2']\n",
    "            ), \n",
    "            self.weights['b2']\n",
    "        )\n",
    "\n",
    "        # cost\n",
    "        self.cost = 0.5 * tf.reduce_sum(\n",
    "            tf.pow(\n",
    "                tf.subtract(\n",
    "                        self.reconstruction, self.x\n",
    "                ), \n",
    "                2.0\n",
    "            )\n",
    "        )\n",
    "            \n",
    "        self.optimizer = optimizer.minimize(self.cost)\n",
    "\n",
    "        init = tf.global_variables_initializer()\n",
    "        self.sess = tf.Session()\n",
    "        self.sess.run(init)\n",
    "\n",
    "    def _initialize_weights(self):\n",
    "        all_weights = dict()\n",
    "        all_weights['w1'] = tf.Variable(xavier_init(self.n_input, self.n_hidden))\n",
    "        all_weights['b1'] = tf.Variable(tf.zeros([self.n_hidden], dtype = tf.float32))\n",
    "        all_weights['w2'] = tf.Variable(tf.zeros([self.n_hidden, self.n_input], dtype = tf.float32))\n",
    "        all_weights['b2'] = tf.Variable(tf.zeros([self.n_input], dtype = tf.float32))\n",
    "        return all_weights\n",
    "\n",
    "    def partial_fit(self, X):\n",
    "        cost, opt = self.sess.run((self.cost, self.optimizer), feed_dict = {self.x: X,\n",
    "                                                                            self.scale: self.training_scale\n",
    "                                                                            })\n",
    "        return cost\n",
    "\n",
    "    def kl_divergence(self, p, p_hat):\n",
    "        return tf.reduce_mean(\n",
    "            p * tf.log(p) - p * tf.log(p_hat) + (1 - p) * tf.log(1 - p) - (1 - p) * tf.log(1 - p_hat))\n",
    "\n",
    "    def calc_total_cost(self, X):\n",
    "        return self.sess.run(self.cost, feed_dict = {self.x: X})\n",
    "\n",
    "    def transform(self, X):\n",
    "        return self.sess.run(self.hidden, feed_dict = {self.x: X,\n",
    "                                                       self.scale: self.training_scale\n",
    "                                                       })\n",
    "\n",
    "    def kCompetitiveLayer(self, k, P, activations, alpha):\n",
    "\n",
    "        ## TODO\n",
    "        # Confirm dimensions and input types\n",
    "        # Maintain activation index for mapping to original order\n",
    "\n",
    "\n",
    "        # sort positive neurons from activation\n",
    "        z_pos = tf.sort( tf.select( tf.where( x > 0, x = activations)), direction = 'DESCENDING')\n",
    "        # sort negative neurons from activation\n",
    "        z_neg = tf.sort( tf.select( tf.where( x < 0, x = activations)), direction = 'ASCENDING')\n",
    "        \n",
    "        P = tf.size(z_pos)\n",
    "        N = tf.size(z_neg)\n",
    "\n",
    "        # Distribute postive activations\n",
    "        if P - np.floor(k/2) > 0:\n",
    "            energy_pos = tf.math.reduce_sum( z_pos)\n",
    "            for i in range( P - np.floor(k/2) + 1, P):\n",
    "                z_pos[i] += alpha * energy_pos\n",
    "            for i in range(1, P - np.floor(k/2)):\n",
    "                z_pos[i] = 0\n",
    "\n",
    "        # Distribute negative activations\n",
    "        if N - np.floor(k/2) > 0:\n",
    "            energy_neg = tf.math.reduce_sum( z_neg)\n",
    "            for i in range( N - np.floor(k/2) + 1, N):\n",
    "                z_pos[i] += alpha * energy_neg\n",
    "            for i in range(1, N - np.floor(k/2)):\n",
    "                z_pos[i] = 0\n",
    "\n",
    "        return activations\n",
    "\n",
    "    def generate(self, hidden = None):\n",
    "        if hidden is None:\n",
    "            hidden = np.random.normal(size = self.weights[\"b1\"])\n",
    "        return self.sess.run(self.reconstruction, feed_dict = {self.hidden: hidden})\n",
    "\n",
    "    def reconstruct(self, X):\n",
    "        return self.sess.run(self.reconstruction, feed_dict = {self.x: X,\n",
    "                                                               self.scale: self.training_scale\n",
    "                                                               })\n",
    "\n",
    "    def getWeights(self):\n",
    "        return self.sess.run(self.weights['w1'])\n",
    "\n",
    "    def getBiases(self):\n",
    "        return self.sess.run(self.weights['b1'])\n",
    "\n"
   ]
  },
  {
   "cell_type": "code",
   "execution_count": 5,
   "metadata": {},
   "outputs": [],
   "source": [
    "def get_random_block_from_data(data, batch_size):\n",
    "    start_index = np.random.randint(0, len(data) - batch_size)\n",
    "    return data[start_index:(start_index + batch_size)]\n"
   ]
  },
  {
   "cell_type": "code",
   "execution_count": 6,
   "metadata": {},
   "outputs": [],
   "source": [
    "# Get distince courses\n",
    "query = \"WITH unique_courses AS ( SELECT DISTINCT [Course ID] AS course_id FROM course_data_manuals ), log_counts AS ( SELECT [Course ID],[word],LOG(1 + COUNT(*)) as cases FROM [UCM].[dbo].[course_data_catalogues] L INNER JOIN unique_courses R ON L.[Course ID] = R.course_id WHERE L.word <> '' GROUP BY [Course ID],[word] ), max_cases AS ( \tSELECT MAX(cases) AS max_cases  FROM log_counts ) SELECT L.[Course ID] as course_id, L.word, L.cases / R.max_cases AS word_count FROM log_counts L, max_cases R \"\n",
    "\n",
    "conn = pyodbc.connect(\n",
    "    'Driver={SQL Server};'\n",
    "    'Server=DESKTOP-8LSE8HT;'\n",
    "    'Database=UCM;'\n",
    "    'Trusted_Connection=yes;'\n",
    ")\n",
    "\n",
    "\n",
    "df = pd.read_sql_query(query, conn)\n",
    "\n",
    "df = df.pivot(index='course_id', columns = 'word' ,values='word_count').fillna(0)\n",
    "\n",
    "\n",
    "X_train, X_test = train_test_split(df, test_size = 0.2)"
   ]
  },
  {
   "cell_type": "code",
   "execution_count": 7,
   "metadata": {},
   "outputs": [
    {
     "name": "stdout",
     "output_type": "stream",
     "text": "WARNING:tensorflow:From C:\\Users\\zjwar\\Anaconda3\\lib\\site-packages\\tensorflow\\python\\ops\\math_grad.py:1205: add_dispatch_support.<locals>.wrapper (from tensorflow.python.ops.array_ops) is deprecated and will be removed in a future version.\nInstructions for updating:\nUse tf.where in 2.0, which has the same broadcast rule as np.where\n"
    }
   ],
   "source": [
    "#mnist = input_data.read_data_sets('MNIST_data', one_hot = True)\n",
    "\n",
    "\n",
    "#X_train = mnist.train.images\n",
    "#X_test = mnist.test.images\n",
    "\n",
    "n_samples = len(X_train)\n",
    "training_epochs = 100\n",
    "batch_size = len(X_test)\n",
    "display_step = 1000\n",
    "\n",
    "autoencoder = AdditiveGaussianNoiseAutoencoder(n_input = X_train[:1].size,\n",
    "                                               n_hidden = 50,\n",
    "                                               transfer_function = tf.nn.sigmoid,\n",
    "                                               optimizer = tf.train.AdamOptimizer(learning_rate = 0.001),\n",
    "                                               scale = 0.01,\n",
    "                                               sparsity_percentage = 1.0)\n"
   ]
  },
  {
   "cell_type": "code",
   "execution_count": 46,
   "metadata": {},
   "outputs": [
    {
     "name": "stdout",
     "output_type": "stream",
     "text": "Total cost (Hidden Units = 1): 83.93742\nTotal cost (Hidden Units = 6): 80.038315\nTotal cost (Hidden Units = 11): 78.88015\nTotal cost (Hidden Units = 16): 78.22202\nTotal cost (Hidden Units = 21): 77.44374\nTotal cost (Hidden Units = 26): 76.41145\nTotal cost (Hidden Units = 31): 76.31714\nTotal cost (Hidden Units = 36): 75.835304\nTotal cost (Hidden Units = 41): 75.46711\nTotal cost (Hidden Units = 46): 75.39902\nTotal cost (Hidden Units = 51): 74.617386\nTotal cost (Hidden Units = 56): 74.33126\nTotal cost (Hidden Units = 61): 73.42879\nTotal cost (Hidden Units = 66): 74.129196\nTotal cost (Hidden Units = 71): 73.54735\nTotal cost (Hidden Units = 76): 73.205444\nTotal cost (Hidden Units = 81): 72.72954\nTotal cost (Hidden Units = 86): 73.0668\nTotal cost (Hidden Units = 91): 73.21295\nTotal cost (Hidden Units = 96): 72.446\nTotal cost (Hidden Units = 1): 84.05316\nTotal cost (Hidden Units = 6): 80.88892\nTotal cost (Hidden Units = 11): 79.38713\nTotal cost (Hidden Units = 16): 78.22043\nTotal cost (Hidden Units = 21): 77.25357\nTotal cost (Hidden Units = 26): 76.90918\nTotal cost (Hidden Units = 31): 76.81978\nTotal cost (Hidden Units = 36): 75.59223\nTotal cost (Hidden Units = 41): 74.9677\nTotal cost (Hidden Units = 46): 74.65106\nTotal cost (Hidden Units = 51): 74.33601\nTotal cost (Hidden Units = 56): 74.35654\nTotal cost (Hidden Units = 61): 74.30458\nTotal cost (Hidden Units = 66): 73.968994\nTotal cost (Hidden Units = 71): 73.161354\nTotal cost (Hidden Units = 76): 72.86384\nTotal cost (Hidden Units = 81): 73.21112\nTotal cost (Hidden Units = 86): 72.99729\nTotal cost (Hidden Units = 91): 72.6357\nTotal cost (Hidden Units = 96): 72.61011\nTotal cost (Hidden Units = 1): 83.9137\nTotal cost (Hidden Units = 6): 80.37602\nTotal cost (Hidden Units = 11): 79.07045\nTotal cost (Hidden Units = 16): 78.41588\nTotal cost (Hidden Units = 21): 77.30997\nTotal cost (Hidden Units = 26): 76.952225\nTotal cost (Hidden Units = 31): 76.23155\nTotal cost (Hidden Units = 36): 75.64159\nTotal cost (Hidden Units = 41): 75.33929\nTotal cost (Hidden Units = 46): 74.498856\nTotal cost (Hidden Units = 51): 74.19744\nTotal cost (Hidden Units = 56): 73.980225\nTotal cost (Hidden Units = 61): 73.87037\nTotal cost (Hidden Units = 66): 73.956825\nTotal cost (Hidden Units = 71): 73.173584\nTotal cost (Hidden Units = 76): 73.007935\nTotal cost (Hidden Units = 81): 72.97761\nTotal cost (Hidden Units = 86): 72.96564\nTotal cost (Hidden Units = 91): 72.59134\nTotal cost (Hidden Units = 96): 72.45973\nTotal cost (Hidden Units = 1): 83.87231\nTotal cost (Hidden Units = 6): 80.246124\nTotal cost (Hidden Units = 11): 79.23315\nTotal cost (Hidden Units = 16): 78.42047\nTotal cost (Hidden Units = 21): 77.22989\nTotal cost (Hidden Units = 26): 76.48339\nTotal cost (Hidden Units = 31): 76.2816\nTotal cost (Hidden Units = 36): 75.33154\nTotal cost (Hidden Units = 41): 75.62947\nTotal cost (Hidden Units = 46): 74.59271\nTotal cost (Hidden Units = 51): 74.32173\nTotal cost (Hidden Units = 56): 74.06433\nTotal cost (Hidden Units = 61): 74.05269\nTotal cost (Hidden Units = 66): 73.25304\nTotal cost (Hidden Units = 71): 73.317505\nTotal cost (Hidden Units = 76): 73.39098\nTotal cost (Hidden Units = 81): 73.279625\nTotal cost (Hidden Units = 86): 73.27394\nTotal cost (Hidden Units = 91): 72.79472\nTotal cost (Hidden Units = 96): 72.71373\nTotal cost (Hidden Units = 1): 84.06659\nTotal cost (Hidden Units = 6): 80.31993\nTotal cost (Hidden Units = 11): 78.89438\nTotal cost (Hidden Units = 16): 78.17863\nTotal cost (Hidden Units = 21): 76.85773\nTotal cost (Hidden Units = 26): 76.46951\nTotal cost (Hidden Units = 31): 76.17993\nTotal cost (Hidden Units = 36): 75.69276\nTotal cost (Hidden Units = 41): 74.97226\nTotal cost (Hidden Units = 46): 74.55131\nTotal cost (Hidden Units = 51): 74.78863\nTotal cost (Hidden Units = 56): 73.87489\nTotal cost (Hidden Units = 61): 73.875404\nTotal cost (Hidden Units = 66): 73.89473\nTotal cost (Hidden Units = 71): 73.74133\nTotal cost (Hidden Units = 76): 73.27437\nTotal cost (Hidden Units = 81): 72.80767\nTotal cost (Hidden Units = 86): 73.17667\nTotal cost (Hidden Units = 91): 72.94684\nTotal cost (Hidden Units = 96): 72.47043\n"
    }
   ],
   "source": [
    "\n",
    "autoencoder_costs = {}\n",
    "for sparsity_num in [0.05, 0.1, 0.25, 0.5, 1.0]:\n",
    "    all_costs = []\n",
    "    for hidden_num in range(1,100,5):\n",
    "        autoencoder = AdditiveGaussianNoiseAutoencoder(n_input = X_train[:1].size,\n",
    "                                                    n_hidden = hidden_num,\n",
    "                                                    transfer_function = tf.nn.sigmoid,\n",
    "                                                    optimizer = tf.train.AdamOptimizer(learning_rate = 0.001),\n",
    "                                                    scale = 0.01,\n",
    "                                                    sparsity_percentage = sparsity_num)\n",
    "\n",
    "        for epoch in range(training_epochs):\n",
    "            avg_cost = 0.\n",
    "            total_batch = int(n_samples / batch_size)\n",
    "            # Loop over all batches\n",
    "            for i in range(total_batch):\n",
    "                batch_xs = get_random_block_from_data(X_train, batch_size)\n",
    "\n",
    "                # Fit training using batch data\n",
    "                cost = autoencoder.partial_fit(batch_xs)\n",
    "                # Compute average loss\n",
    "                avg_cost += cost / n_samples * batch_size\n",
    "\n",
    "            # Display logs per epoch step\n",
    "            #if epoch % display_step == 0:\n",
    "            #    print(\"Epoch:\", '%04d' % (epoch + 1), \"cost=\", avg_cost)\n",
    "        all_costs.append(autoencoder.calc_total_cost(X_test))\n",
    "        print(\"Total cost (Hidden Units = \" + str(hidden_num) + \"): \" + str(autoencoder.calc_total_cost(X_test)))\n",
    "\n",
    "    autoencoder_costs[sparsity_num] = all_costs\n"
   ]
  },
  {
   "cell_type": "code",
   "execution_count": 49,
   "metadata": {},
   "outputs": [
    {
     "data": {
      "application/vnd.plotly.v1+json": {
       "config": {
        "plotlyServerURL": "https://plot.ly"
       },
       "data": [
        {
         "name": "Sparsity = 0.05",
         "type": "scatter",
         "x": [
          0,
          1,
          2,
          3,
          4,
          5,
          6,
          7,
          8,
          9,
          10,
          11,
          12,
          13,
          14,
          15,
          16,
          17,
          18,
          19
         ],
         "y": [
          83.92098999023438,
          80.03400421142578,
          78.88926696777344,
          78.19833374023438,
          77.50312805175781,
          76.38479614257812,
          76.37716674804688,
          75.83219146728516,
          75.49385070800781,
          75.35417938232422,
          74.68778991699219,
          74.27880859375,
          73.4053726196289,
          74.21223449707031,
          73.55430603027344,
          73.04043579101562,
          72.83684539794922,
          73.12323760986328,
          73.09585571289062,
          72.38139343261719
         ]
        },
        {
         "name": "Sparsity = 0.1",
         "type": "scatter",
         "x": [
          0,
          1,
          2,
          3,
          4,
          5,
          6,
          7,
          8,
          9,
          10,
          11,
          12,
          13,
          14,
          15,
          16,
          17,
          18,
          19
         ],
         "y": [
          84.07872009277344,
          80.89867401123047,
          79.38252258300781,
          78.31173706054688,
          77.3035888671875,
          76.93508911132812,
          76.74655151367188,
          75.60574340820312,
          74.99714660644531,
          74.5839614868164,
          74.43403625488281,
          74.33187103271484,
          74.36775207519531,
          73.95106506347656,
          73.12039184570312,
          72.88047790527344,
          73.20945739746094,
          72.94744873046875,
          72.68924713134766,
          72.6247329711914
         ]
        },
        {
         "name": "Sparsity = 0.25",
         "type": "scatter",
         "x": [
          0,
          1,
          2,
          3,
          4,
          5,
          6,
          7,
          8,
          9,
          10,
          11,
          12,
          13,
          14,
          15,
          16,
          17,
          18,
          19
         ],
         "y": [
          83.91117095947266,
          80.39309692382812,
          79.05333709716797,
          78.39433288574219,
          77.27326965332031,
          76.91535949707031,
          76.24434661865234,
          75.6682357788086,
          75.39752960205078,
          74.45481872558594,
          74.15089416503906,
          74.03761291503906,
          73.84276580810547,
          73.97596740722656,
          73.23719024658203,
          73.05657196044922,
          72.99823760986328,
          72.9910888671875,
          72.53813171386719,
          72.44915771484375
         ]
        },
        {
         "name": "Sparsity = 0.5",
         "type": "scatter",
         "x": [
          0,
          1,
          2,
          3,
          4,
          5,
          6,
          7,
          8,
          9,
          10,
          11,
          12,
          13,
          14,
          15,
          16,
          17,
          18,
          19
         ],
         "y": [
          83.85444641113281,
          80.19447326660156,
          79.26670837402344,
          78.37615203857422,
          77.19674682617188,
          76.44511413574219,
          76.23695373535156,
          75.38706970214844,
          75.60307312011719,
          74.63890838623047,
          74.25060272216797,
          74.05628967285156,
          74.02885437011719,
          73.26214599609375,
          73.42163848876953,
          73.25465393066406,
          73.32154846191406,
          73.18965911865234,
          72.77983093261719,
          72.69773864746094
         ]
        },
        {
         "name": "Sparsity = 1.0",
         "type": "scatter",
         "x": [
          0,
          1,
          2,
          3,
          4,
          5,
          6,
          7,
          8,
          9,
          10,
          11,
          12,
          13,
          14,
          15,
          16,
          17,
          18,
          19
         ],
         "y": [
          84.0660400390625,
          80.33035278320312,
          78.87716674804688,
          78.19766235351562,
          76.89515686035156,
          76.41930389404297,
          76.24824523925781,
          75.74598693847656,
          74.96017456054688,
          74.59010314941406,
          74.8834457397461,
          73.75507354736328,
          73.81693267822266,
          73.79428100585938,
          73.7047119140625,
          73.27754211425781,
          72.84355163574219,
          73.1029052734375,
          72.9644546508789,
          72.476806640625
         ]
        }
       ],
       "layout": {
        "template": {
         "data": {
          "bar": [
           {
            "error_x": {
             "color": "#2a3f5f"
            },
            "error_y": {
             "color": "#2a3f5f"
            },
            "marker": {
             "line": {
              "color": "#E5ECF6",
              "width": 0.5
             }
            },
            "type": "bar"
           }
          ],
          "barpolar": [
           {
            "marker": {
             "line": {
              "color": "#E5ECF6",
              "width": 0.5
             }
            },
            "type": "barpolar"
           }
          ],
          "carpet": [
           {
            "aaxis": {
             "endlinecolor": "#2a3f5f",
             "gridcolor": "white",
             "linecolor": "white",
             "minorgridcolor": "white",
             "startlinecolor": "#2a3f5f"
            },
            "baxis": {
             "endlinecolor": "#2a3f5f",
             "gridcolor": "white",
             "linecolor": "white",
             "minorgridcolor": "white",
             "startlinecolor": "#2a3f5f"
            },
            "type": "carpet"
           }
          ],
          "choropleth": [
           {
            "colorbar": {
             "outlinewidth": 0,
             "ticks": ""
            },
            "type": "choropleth"
           }
          ],
          "contour": [
           {
            "colorbar": {
             "outlinewidth": 0,
             "ticks": ""
            },
            "colorscale": [
             [
              0,
              "#0d0887"
             ],
             [
              0.1111111111111111,
              "#46039f"
             ],
             [
              0.2222222222222222,
              "#7201a8"
             ],
             [
              0.3333333333333333,
              "#9c179e"
             ],
             [
              0.4444444444444444,
              "#bd3786"
             ],
             [
              0.5555555555555556,
              "#d8576b"
             ],
             [
              0.6666666666666666,
              "#ed7953"
             ],
             [
              0.7777777777777778,
              "#fb9f3a"
             ],
             [
              0.8888888888888888,
              "#fdca26"
             ],
             [
              1,
              "#f0f921"
             ]
            ],
            "type": "contour"
           }
          ],
          "contourcarpet": [
           {
            "colorbar": {
             "outlinewidth": 0,
             "ticks": ""
            },
            "type": "contourcarpet"
           }
          ],
          "heatmap": [
           {
            "colorbar": {
             "outlinewidth": 0,
             "ticks": ""
            },
            "colorscale": [
             [
              0,
              "#0d0887"
             ],
             [
              0.1111111111111111,
              "#46039f"
             ],
             [
              0.2222222222222222,
              "#7201a8"
             ],
             [
              0.3333333333333333,
              "#9c179e"
             ],
             [
              0.4444444444444444,
              "#bd3786"
             ],
             [
              0.5555555555555556,
              "#d8576b"
             ],
             [
              0.6666666666666666,
              "#ed7953"
             ],
             [
              0.7777777777777778,
              "#fb9f3a"
             ],
             [
              0.8888888888888888,
              "#fdca26"
             ],
             [
              1,
              "#f0f921"
             ]
            ],
            "type": "heatmap"
           }
          ],
          "heatmapgl": [
           {
            "colorbar": {
             "outlinewidth": 0,
             "ticks": ""
            },
            "colorscale": [
             [
              0,
              "#0d0887"
             ],
             [
              0.1111111111111111,
              "#46039f"
             ],
             [
              0.2222222222222222,
              "#7201a8"
             ],
             [
              0.3333333333333333,
              "#9c179e"
             ],
             [
              0.4444444444444444,
              "#bd3786"
             ],
             [
              0.5555555555555556,
              "#d8576b"
             ],
             [
              0.6666666666666666,
              "#ed7953"
             ],
             [
              0.7777777777777778,
              "#fb9f3a"
             ],
             [
              0.8888888888888888,
              "#fdca26"
             ],
             [
              1,
              "#f0f921"
             ]
            ],
            "type": "heatmapgl"
           }
          ],
          "histogram": [
           {
            "marker": {
             "colorbar": {
              "outlinewidth": 0,
              "ticks": ""
             }
            },
            "type": "histogram"
           }
          ],
          "histogram2d": [
           {
            "colorbar": {
             "outlinewidth": 0,
             "ticks": ""
            },
            "colorscale": [
             [
              0,
              "#0d0887"
             ],
             [
              0.1111111111111111,
              "#46039f"
             ],
             [
              0.2222222222222222,
              "#7201a8"
             ],
             [
              0.3333333333333333,
              "#9c179e"
             ],
             [
              0.4444444444444444,
              "#bd3786"
             ],
             [
              0.5555555555555556,
              "#d8576b"
             ],
             [
              0.6666666666666666,
              "#ed7953"
             ],
             [
              0.7777777777777778,
              "#fb9f3a"
             ],
             [
              0.8888888888888888,
              "#fdca26"
             ],
             [
              1,
              "#f0f921"
             ]
            ],
            "type": "histogram2d"
           }
          ],
          "histogram2dcontour": [
           {
            "colorbar": {
             "outlinewidth": 0,
             "ticks": ""
            },
            "colorscale": [
             [
              0,
              "#0d0887"
             ],
             [
              0.1111111111111111,
              "#46039f"
             ],
             [
              0.2222222222222222,
              "#7201a8"
             ],
             [
              0.3333333333333333,
              "#9c179e"
             ],
             [
              0.4444444444444444,
              "#bd3786"
             ],
             [
              0.5555555555555556,
              "#d8576b"
             ],
             [
              0.6666666666666666,
              "#ed7953"
             ],
             [
              0.7777777777777778,
              "#fb9f3a"
             ],
             [
              0.8888888888888888,
              "#fdca26"
             ],
             [
              1,
              "#f0f921"
             ]
            ],
            "type": "histogram2dcontour"
           }
          ],
          "mesh3d": [
           {
            "colorbar": {
             "outlinewidth": 0,
             "ticks": ""
            },
            "type": "mesh3d"
           }
          ],
          "parcoords": [
           {
            "line": {
             "colorbar": {
              "outlinewidth": 0,
              "ticks": ""
             }
            },
            "type": "parcoords"
           }
          ],
          "scatter": [
           {
            "marker": {
             "colorbar": {
              "outlinewidth": 0,
              "ticks": ""
             }
            },
            "type": "scatter"
           }
          ],
          "scatter3d": [
           {
            "line": {
             "colorbar": {
              "outlinewidth": 0,
              "ticks": ""
             }
            },
            "marker": {
             "colorbar": {
              "outlinewidth": 0,
              "ticks": ""
             }
            },
            "type": "scatter3d"
           }
          ],
          "scattercarpet": [
           {
            "marker": {
             "colorbar": {
              "outlinewidth": 0,
              "ticks": ""
             }
            },
            "type": "scattercarpet"
           }
          ],
          "scattergeo": [
           {
            "marker": {
             "colorbar": {
              "outlinewidth": 0,
              "ticks": ""
             }
            },
            "type": "scattergeo"
           }
          ],
          "scattergl": [
           {
            "marker": {
             "colorbar": {
              "outlinewidth": 0,
              "ticks": ""
             }
            },
            "type": "scattergl"
           }
          ],
          "scattermapbox": [
           {
            "marker": {
             "colorbar": {
              "outlinewidth": 0,
              "ticks": ""
             }
            },
            "type": "scattermapbox"
           }
          ],
          "scatterpolar": [
           {
            "marker": {
             "colorbar": {
              "outlinewidth": 0,
              "ticks": ""
             }
            },
            "type": "scatterpolar"
           }
          ],
          "scatterpolargl": [
           {
            "marker": {
             "colorbar": {
              "outlinewidth": 0,
              "ticks": ""
             }
            },
            "type": "scatterpolargl"
           }
          ],
          "scatterternary": [
           {
            "marker": {
             "colorbar": {
              "outlinewidth": 0,
              "ticks": ""
             }
            },
            "type": "scatterternary"
           }
          ],
          "surface": [
           {
            "colorbar": {
             "outlinewidth": 0,
             "ticks": ""
            },
            "colorscale": [
             [
              0,
              "#0d0887"
             ],
             [
              0.1111111111111111,
              "#46039f"
             ],
             [
              0.2222222222222222,
              "#7201a8"
             ],
             [
              0.3333333333333333,
              "#9c179e"
             ],
             [
              0.4444444444444444,
              "#bd3786"
             ],
             [
              0.5555555555555556,
              "#d8576b"
             ],
             [
              0.6666666666666666,
              "#ed7953"
             ],
             [
              0.7777777777777778,
              "#fb9f3a"
             ],
             [
              0.8888888888888888,
              "#fdca26"
             ],
             [
              1,
              "#f0f921"
             ]
            ],
            "type": "surface"
           }
          ],
          "table": [
           {
            "cells": {
             "fill": {
              "color": "#EBF0F8"
             },
             "line": {
              "color": "white"
             }
            },
            "header": {
             "fill": {
              "color": "#C8D4E3"
             },
             "line": {
              "color": "white"
             }
            },
            "type": "table"
           }
          ]
         },
         "layout": {
          "annotationdefaults": {
           "arrowcolor": "#2a3f5f",
           "arrowhead": 0,
           "arrowwidth": 1
          },
          "colorscale": {
           "diverging": [
            [
             0,
             "#8e0152"
            ],
            [
             0.1,
             "#c51b7d"
            ],
            [
             0.2,
             "#de77ae"
            ],
            [
             0.3,
             "#f1b6da"
            ],
            [
             0.4,
             "#fde0ef"
            ],
            [
             0.5,
             "#f7f7f7"
            ],
            [
             0.6,
             "#e6f5d0"
            ],
            [
             0.7,
             "#b8e186"
            ],
            [
             0.8,
             "#7fbc41"
            ],
            [
             0.9,
             "#4d9221"
            ],
            [
             1,
             "#276419"
            ]
           ],
           "sequential": [
            [
             0,
             "#0d0887"
            ],
            [
             0.1111111111111111,
             "#46039f"
            ],
            [
             0.2222222222222222,
             "#7201a8"
            ],
            [
             0.3333333333333333,
             "#9c179e"
            ],
            [
             0.4444444444444444,
             "#bd3786"
            ],
            [
             0.5555555555555556,
             "#d8576b"
            ],
            [
             0.6666666666666666,
             "#ed7953"
            ],
            [
             0.7777777777777778,
             "#fb9f3a"
            ],
            [
             0.8888888888888888,
             "#fdca26"
            ],
            [
             1,
             "#f0f921"
            ]
           ],
           "sequentialminus": [
            [
             0,
             "#0d0887"
            ],
            [
             0.1111111111111111,
             "#46039f"
            ],
            [
             0.2222222222222222,
             "#7201a8"
            ],
            [
             0.3333333333333333,
             "#9c179e"
            ],
            [
             0.4444444444444444,
             "#bd3786"
            ],
            [
             0.5555555555555556,
             "#d8576b"
            ],
            [
             0.6666666666666666,
             "#ed7953"
            ],
            [
             0.7777777777777778,
             "#fb9f3a"
            ],
            [
             0.8888888888888888,
             "#fdca26"
            ],
            [
             1,
             "#f0f921"
            ]
           ]
          },
          "colorway": [
           "#636efa",
           "#EF553B",
           "#00cc96",
           "#ab63fa",
           "#FFA15A",
           "#19d3f3",
           "#FF6692",
           "#B6E880",
           "#FF97FF",
           "#FECB52"
          ],
          "font": {
           "color": "#2a3f5f"
          },
          "geo": {
           "bgcolor": "white",
           "lakecolor": "white",
           "landcolor": "#E5ECF6",
           "showlakes": true,
           "showland": true,
           "subunitcolor": "white"
          },
          "hoverlabel": {
           "align": "left"
          },
          "hovermode": "closest",
          "mapbox": {
           "style": "light"
          },
          "paper_bgcolor": "white",
          "plot_bgcolor": "#E5ECF6",
          "polar": {
           "angularaxis": {
            "gridcolor": "white",
            "linecolor": "white",
            "ticks": ""
           },
           "bgcolor": "#E5ECF6",
           "radialaxis": {
            "gridcolor": "white",
            "linecolor": "white",
            "ticks": ""
           }
          },
          "scene": {
           "xaxis": {
            "backgroundcolor": "#E5ECF6",
            "gridcolor": "white",
            "gridwidth": 2,
            "linecolor": "white",
            "showbackground": true,
            "ticks": "",
            "zerolinecolor": "white"
           },
           "yaxis": {
            "backgroundcolor": "#E5ECF6",
            "gridcolor": "white",
            "gridwidth": 2,
            "linecolor": "white",
            "showbackground": true,
            "ticks": "",
            "zerolinecolor": "white"
           },
           "zaxis": {
            "backgroundcolor": "#E5ECF6",
            "gridcolor": "white",
            "gridwidth": 2,
            "linecolor": "white",
            "showbackground": true,
            "ticks": "",
            "zerolinecolor": "white"
           }
          },
          "shapedefaults": {
           "line": {
            "color": "#2a3f5f"
           }
          },
          "ternary": {
           "aaxis": {
            "gridcolor": "white",
            "linecolor": "white",
            "ticks": ""
           },
           "baxis": {
            "gridcolor": "white",
            "linecolor": "white",
            "ticks": ""
           },
           "bgcolor": "#E5ECF6",
           "caxis": {
            "gridcolor": "white",
            "linecolor": "white",
            "ticks": ""
           }
          },
          "title": {
           "x": 0.05
          },
          "xaxis": {
           "automargin": true,
           "gridcolor": "white",
           "linecolor": "white",
           "ticks": "",
           "zerolinecolor": "white",
           "zerolinewidth": 2
          },
          "yaxis": {
           "automargin": true,
           "gridcolor": "white",
           "linecolor": "white",
           "ticks": "",
           "zerolinecolor": "white",
           "zerolinewidth": 2
          }
         }
        },
        "title": {
         "text": "Autoencoding Text data"
        },
        "xaxis": {
         "title": {
          "text": "Number of hidden units"
         }
        },
        "yaxis": {
         "range": [
          70,
          85
         ],
         "title": {
          "text": "Cost"
         }
        }
       }
      }
     },
     "metadata": {},
     "output_type": "display_data"
    }
   ],
   "source": [
    "\n",
    "import plotly.graph_objects as go\n",
    "from plotly.subplots import make_subplots\n",
    "\n",
    "fig = go.Figure()\n",
    "\n",
    "for key, vals in autoencoder_costs.items():\n",
    "    fig.add_trace(\n",
    "        go.Scatter(\n",
    "            y = vals,\n",
    "            x = list(range(len(vals))),\n",
    "            name = \"Sparsity = \" + str(key)\n",
    "        )\n",
    "    )\n",
    "\n",
    "fig.update_layout(\n",
    "    title = \"Autoencoding Text data\",\n",
    "    xaxis_title=\"Number of hidden units\",\n",
    "    yaxis_title=\"Cost\"\n",
    ")\n",
    "fig.update_yaxes(range=[70,85])\n",
    "\n",
    "fig.show()"
   ]
  },
  {
   "cell_type": "code",
   "execution_count": null,
   "metadata": {},
   "outputs": [],
   "source": [
    "# Plotting methods\n",
    "\n",
    "# input weights\n",
    "wts = autoencoder.getWeights()\n",
    "dim = math.ceil(math.sqrt(autoencoder.n_hidden))\n",
    "plt.figure(1, figsize=(dim, dim))\n",
    "for i in range(0,autoencoder.n_hidden):\n",
    "    im = wts.flatten()[i::autoencoder.n_hidden].reshape((28,28))\n",
    "    plt.subplot(dim, dim, i+1)\n",
    "    #plt.title('Feature Weights ' + str(i))\n",
    "    plt.imshow(im, cmap=\"gray\", clim=(-1.0, 1.0))\n",
    "plt.show()\n",
    "\n",
    "predicted_imgs = autoencoder.reconstruct(X_test[:100])\n",
    "\n",
    "# plot the reconstructed images\n",
    "plt.figure(1, figsize=(10, 10))\n",
    "plt.title('Autoencoded Images')\n",
    "for i in range(0,100):\n",
    "    im = predicted_imgs[i].reshape((28,28))\n",
    "    plt.subplot(10, 10, i+1)\n",
    "    plt.imshow(im, cmap=\"gray\", clim=(0.0, 1.0))\n",
    "plt.show()"
   ]
  },
  {
   "cell_type": "code",
   "execution_count": 15,
   "metadata": {},
   "outputs": [],
   "source": [
    "class Autoencoder(object):\n",
    "\n",
    "    # Input\n",
    "    # n_input - dimension of input\n",
    "    # n_hidden - number of hidden nodes\n",
    "    # transfer_function - activation function to use\n",
    "    # optimizer - Optimizer algorithm to use to train model\n",
    "    # scale - training alpha?\n",
    "\n",
    "    def __init__(self, n_input, n_hidden, transfer_function = tf.nn.sigmoid, optimizer = tf.train.AdamOptimizer(), reg = 0.0):\n",
    "        self.n_input = n_input\n",
    "        self.n_hidden = n_hidden\n",
    "        self.transfer = transfer_function\n",
    "        network_weights = self._initialize_weights()\n",
    "        self.weights = network_weights\n",
    "        self.sparse_reg = reg\n",
    "\n",
    "        # model\n",
    "        self.x = tf.placeholder(tf.float32, [None, self.n_input])\n",
    "                \n",
    "        # Need to wrap this function with competitive layer for KATE\n",
    "        # after the transfer function\n",
    "        self.hidden = self.transfer(\n",
    "            tf.add(\n",
    "                tf.matmul(\n",
    "                    self.x,\n",
    "                    self.weights['w1']\n",
    "                ),\n",
    "                self.weights['b1']\n",
    "            )\n",
    "        )\n",
    "        self.reconstruction = tf.add(\n",
    "            tf.matmul(\n",
    "                self.hidden, \n",
    "                self.weights['w2']\n",
    "            ), \n",
    "            self.weights['b2']\n",
    "        )\n",
    "\n",
    "        # cost, squared sum\n",
    "        self.cost = 0.5 * tf.reduce_sum(\n",
    "            tf.pow(\n",
    "                tf.subtract(\n",
    "                        self.reconstruction, \n",
    "                        self.x\n",
    "                ), \n",
    "                2.0\n",
    "            )\n",
    "        )\n",
    "            \n",
    "        self.optimizer = optimizer.minimize(self.cost)\n",
    "\n",
    "        init = tf.global_variables_initializer()\n",
    "        self.sess = tf.Session()\n",
    "        self.sess.run(init)\n",
    "\n",
    "    def _initialize_weights(self):\n",
    "        all_weights = dict()\n",
    "        all_weights['w1'] = tf.Variable(xavier_init(self.n_input, self.n_hidden))\n",
    "        all_weights['b1'] = tf.Variable(tf.zeros([self.n_hidden], dtype = tf.float32))\n",
    "        all_weights['w2'] = tf.Variable(tf.zeros([self.n_hidden, self.n_input], dtype = tf.float32))\n",
    "        all_weights['b2'] = tf.Variable(tf.zeros([self.n_input], dtype = tf.float32))\n",
    "        return all_weights\n",
    "\n",
    "    def partial_fit(self, X):\n",
    "        cost, opt = self.sess.run((self.cost, self.optimizer), feed_dict = {self.x: X})\n",
    "        return cost\n",
    "\n",
    "    def calc_total_cost(self, X):\n",
    "        return self.sess.run(self.cost, feed_dict = {self.x: X})\n",
    "\n",
    "    def transform(self, X):\n",
    "        return self.sess.run(self.hidden, feed_dict = {self.x: X})\n",
    "\n",
    "    def generate(self, hidden = None):\n",
    "        if hidden is None:\n",
    "            hidden = np.random.normal(size = self.weights[\"b1\"])\n",
    "        return self.sess.run(self.reconstruction, feed_dict = {self.hidden: hidden})\n",
    "\n",
    "    def reconstruct(self, X):\n",
    "        return self.sess.run(self.reconstruction, feed_dict = {self.x: X})\n",
    "\n",
    "    def getWeights(self):\n",
    "        return self.sess.run(self.weights['w1'])\n",
    "\n",
    "    def getBiases(self):\n",
    "        return self.sess.run(self.weights['b1'])\n"
   ]
  },
  {
   "cell_type": "code",
   "execution_count": 19,
   "metadata": {},
   "outputs": [],
   "source": [
    "class kDenseAutoencoder(object):\n",
    "\n",
    "    # Input\n",
    "    # n_input - dimension of input\n",
    "    # n_hidden - number of hidden nodes\n",
    "    # transfer_function - activation function to use\n",
    "    # optimizer - Optimizer algorithm to use to train model\n",
    "    # scale - training alpha?\n",
    "\n",
    "    def __init__(self, n_input, n_hidden, transfer_function = tf.nn.sigmoid, optimizer = tf.train.AdamOptimizer(), reg = 0.0, k = 10):\n",
    "        self.n_input = n_input\n",
    "        self.n_hidden = n_hidden\n",
    "        self.transfer = transfer_function\n",
    "        network_weights = self._initialize_weights()\n",
    "        self.weights = network_weights\n",
    "        self.sparse_reg = reg\n",
    "        self.k = k\n",
    "\n",
    "        # model\n",
    "        self.x = tf.placeholder(tf.float32, [None, self.n_input])\n",
    "                \n",
    "        # Need to wrap this function with competitive layer for KATE\n",
    "        # after the transfer function\n",
    "        self.hidden = self.transfer(\n",
    "            tf.add(\n",
    "                tf.matmul(\n",
    "                    self.x,\n",
    "                    self.weights['w1']\n",
    "                ),\n",
    "                self.weights['b1']\n",
    "            )\n",
    "        )\n",
    "        self.values, self.indices = tf.math.top_k(self.hidden, k = self.k)\n",
    "\n",
    "        print(self.values.eval(), self.indices.eval())\n",
    "\n",
    "        self.kDenseHidden = tf.SparseTensor( self.indices, self.values, tf.shape(self.n_hidden, out_type = tf.float64))\n",
    "        self.reconstruction = tf.add(\n",
    "            tf.matmul(\n",
    "                self.kDenseHidden, \n",
    "                self.weights['w2']\n",
    "            ), \n",
    "            self.weights['b2']\n",
    "        )\n",
    "\n",
    "        # cost, squared sum\n",
    "        self.cost = 0.5 * tf.reduce_sum(\n",
    "            tf.pow(\n",
    "                tf.subtract(\n",
    "                        self.reconstruction, \n",
    "                        self.x\n",
    "                ), \n",
    "                2.0\n",
    "            )\n",
    "        )\n",
    "            \n",
    "        self.optimizer = optimizer.minimize(self.cost)\n",
    "\n",
    "        init = tf.global_variables_initializer()\n",
    "        self.sess = tf.Session()\n",
    "        self.sess.run(init)\n",
    "\n",
    "    def _initialize_weights(self):\n",
    "        all_weights = dict()\n",
    "        all_weights['w1'] = tf.Variable(xavier_init(self.n_input, self.n_hidden))\n",
    "        all_weights['b1'] = tf.Variable(tf.zeros([self.n_hidden], dtype = tf.float32))\n",
    "        all_weights['w2'] = tf.Variable(tf.zeros([self.n_hidden, self.n_input], dtype = tf.float32))\n",
    "        all_weights['b2'] = tf.Variable(tf.zeros([self.n_input], dtype = tf.float32))\n",
    "        return all_weights\n",
    "\n",
    "    def partial_fit(self, X):\n",
    "        cost, opt = self.sess.run((self.cost, self.optimizer), feed_dict = {self.x: X})\n",
    "        return cost\n",
    "\n",
    "    def calc_total_cost(self, X):\n",
    "        return self.sess.run(self.cost, feed_dict = {self.x: X})\n",
    "\n",
    "    def transform(self, X):\n",
    "        return self.sess.run(self.hidden, feed_dict = {self.x: X})\n",
    "\n",
    "    def generate(self, hidden = None):\n",
    "        if hidden is None:\n",
    "            hidden = np.random.normal(size = self.weights[\"b1\"])\n",
    "        return self.sess.run(self.reconstruction, feed_dict = {self.hidden: hidden})\n",
    "\n",
    "    def reconstruct(self, X):\n",
    "        return self.sess.run(self.reconstruction, feed_dict = {self.x: X})\n",
    "\n",
    "    def getWeights(self):\n",
    "        return self.sess.run(self.weights['w1'])\n",
    "\n",
    "    def getBiases(self):\n",
    "        return self.sess.run(self.weights['b1'])\n"
   ]
  },
  {
   "cell_type": "code",
   "execution_count": 20,
   "metadata": {},
   "outputs": [
    {
     "ename": "ValueError",
     "evalue": "Cannot evaluate tensor using `eval()`: No default session is registered. Use `with sess.as_default()` or pass an explicit session to `eval(session=sess)`",
     "output_type": "error",
     "traceback": [
      "\u001b[1;31m---------------------------------------------------------------------------\u001b[0m",
      "\u001b[1;31mValueError\u001b[0m                                Traceback (most recent call last)",
      "\u001b[1;32m<ipython-input-20-f5768678fb8b>\u001b[0m in \u001b[0;36m<module>\u001b[1;34m\u001b[0m\n\u001b[0;32m     13\u001b[0m     \u001b[0mn_hidden\u001b[0m \u001b[1;33m=\u001b[0m \u001b[0mhidden_num\u001b[0m\u001b[1;33m,\u001b[0m\u001b[1;33m\u001b[0m\u001b[1;33m\u001b[0m\u001b[0m\n\u001b[0;32m     14\u001b[0m     \u001b[0mtransfer_function\u001b[0m \u001b[1;33m=\u001b[0m \u001b[0mtf\u001b[0m\u001b[1;33m.\u001b[0m\u001b[0mnn\u001b[0m\u001b[1;33m.\u001b[0m\u001b[0msigmoid\u001b[0m\u001b[1;33m,\u001b[0m\u001b[1;33m\u001b[0m\u001b[1;33m\u001b[0m\u001b[0m\n\u001b[1;32m---> 15\u001b[1;33m     \u001b[0moptimizer\u001b[0m \u001b[1;33m=\u001b[0m \u001b[0mtf\u001b[0m\u001b[1;33m.\u001b[0m\u001b[0mtrain\u001b[0m\u001b[1;33m.\u001b[0m\u001b[0mAdamOptimizer\u001b[0m\u001b[1;33m(\u001b[0m\u001b[0mlearning_rate\u001b[0m \u001b[1;33m=\u001b[0m \u001b[1;36m0.001\u001b[0m\u001b[1;33m)\u001b[0m\u001b[1;33m\u001b[0m\u001b[1;33m\u001b[0m\u001b[0m\n\u001b[0m\u001b[0;32m     16\u001b[0m )\n\u001b[0;32m     17\u001b[0m \u001b[1;33m\u001b[0m\u001b[0m\n",
      "\u001b[1;32m<ipython-input-19-0dfbe25e68a8>\u001b[0m in \u001b[0;36m__init__\u001b[1;34m(self, n_input, n_hidden, transfer_function, optimizer, reg, k)\u001b[0m\n\u001b[0;32m     33\u001b[0m         \u001b[0mself\u001b[0m\u001b[1;33m.\u001b[0m\u001b[0mvalues\u001b[0m\u001b[1;33m,\u001b[0m \u001b[0mself\u001b[0m\u001b[1;33m.\u001b[0m\u001b[0mindices\u001b[0m \u001b[1;33m=\u001b[0m \u001b[0mtf\u001b[0m\u001b[1;33m.\u001b[0m\u001b[0mmath\u001b[0m\u001b[1;33m.\u001b[0m\u001b[0mtop_k\u001b[0m\u001b[1;33m(\u001b[0m\u001b[0mself\u001b[0m\u001b[1;33m.\u001b[0m\u001b[0mhidden\u001b[0m\u001b[1;33m,\u001b[0m \u001b[0mk\u001b[0m \u001b[1;33m=\u001b[0m \u001b[0mself\u001b[0m\u001b[1;33m.\u001b[0m\u001b[0mk\u001b[0m\u001b[1;33m)\u001b[0m\u001b[1;33m\u001b[0m\u001b[1;33m\u001b[0m\u001b[0m\n\u001b[0;32m     34\u001b[0m \u001b[1;33m\u001b[0m\u001b[0m\n\u001b[1;32m---> 35\u001b[1;33m         \u001b[0mprint\u001b[0m\u001b[1;33m(\u001b[0m\u001b[0mself\u001b[0m\u001b[1;33m.\u001b[0m\u001b[0mvalues\u001b[0m\u001b[1;33m.\u001b[0m\u001b[0meval\u001b[0m\u001b[1;33m(\u001b[0m\u001b[1;33m)\u001b[0m\u001b[1;33m,\u001b[0m \u001b[0mself\u001b[0m\u001b[1;33m.\u001b[0m\u001b[0mindices\u001b[0m\u001b[1;33m.\u001b[0m\u001b[0meval\u001b[0m\u001b[1;33m(\u001b[0m\u001b[1;33m)\u001b[0m\u001b[1;33m)\u001b[0m\u001b[1;33m\u001b[0m\u001b[1;33m\u001b[0m\u001b[0m\n\u001b[0m\u001b[0;32m     36\u001b[0m \u001b[1;33m\u001b[0m\u001b[0m\n\u001b[0;32m     37\u001b[0m         \u001b[0mself\u001b[0m\u001b[1;33m.\u001b[0m\u001b[0mkDenseHidden\u001b[0m \u001b[1;33m=\u001b[0m \u001b[0mtf\u001b[0m\u001b[1;33m.\u001b[0m\u001b[0mSparseTensor\u001b[0m\u001b[1;33m(\u001b[0m \u001b[0mself\u001b[0m\u001b[1;33m.\u001b[0m\u001b[0mindices\u001b[0m\u001b[1;33m,\u001b[0m \u001b[0mself\u001b[0m\u001b[1;33m.\u001b[0m\u001b[0mvalues\u001b[0m\u001b[1;33m,\u001b[0m \u001b[0mtf\u001b[0m\u001b[1;33m.\u001b[0m\u001b[0mshape\u001b[0m\u001b[1;33m(\u001b[0m\u001b[0mself\u001b[0m\u001b[1;33m.\u001b[0m\u001b[0mn_hidden\u001b[0m\u001b[1;33m,\u001b[0m \u001b[0mout_type\u001b[0m \u001b[1;33m=\u001b[0m \u001b[0mtf\u001b[0m\u001b[1;33m.\u001b[0m\u001b[0mfloat64\u001b[0m\u001b[1;33m)\u001b[0m\u001b[1;33m)\u001b[0m\u001b[1;33m\u001b[0m\u001b[1;33m\u001b[0m\u001b[0m\n",
      "\u001b[1;32m~\\Anaconda3\\lib\\site-packages\\tensorflow\\python\\framework\\ops.py\u001b[0m in \u001b[0;36meval\u001b[1;34m(self, feed_dict, session)\u001b[0m\n\u001b[0;32m    729\u001b[0m \u001b[1;33m\u001b[0m\u001b[0m\n\u001b[0;32m    730\u001b[0m     \"\"\"\n\u001b[1;32m--> 731\u001b[1;33m     \u001b[1;32mreturn\u001b[0m \u001b[0m_eval_using_default_session\u001b[0m\u001b[1;33m(\u001b[0m\u001b[0mself\u001b[0m\u001b[1;33m,\u001b[0m \u001b[0mfeed_dict\u001b[0m\u001b[1;33m,\u001b[0m \u001b[0mself\u001b[0m\u001b[1;33m.\u001b[0m\u001b[0mgraph\u001b[0m\u001b[1;33m,\u001b[0m \u001b[0msession\u001b[0m\u001b[1;33m)\u001b[0m\u001b[1;33m\u001b[0m\u001b[1;33m\u001b[0m\u001b[0m\n\u001b[0m\u001b[0;32m    732\u001b[0m \u001b[1;33m\u001b[0m\u001b[0m\n\u001b[0;32m    733\u001b[0m \u001b[1;33m\u001b[0m\u001b[0m\n",
      "\u001b[1;32m~\\Anaconda3\\lib\\site-packages\\tensorflow\\python\\framework\\ops.py\u001b[0m in \u001b[0;36m_eval_using_default_session\u001b[1;34m(tensors, feed_dict, graph, session)\u001b[0m\n\u001b[0;32m   5563\u001b[0m     \u001b[0msession\u001b[0m \u001b[1;33m=\u001b[0m \u001b[0mget_default_session\u001b[0m\u001b[1;33m(\u001b[0m\u001b[1;33m)\u001b[0m\u001b[1;33m\u001b[0m\u001b[1;33m\u001b[0m\u001b[0m\n\u001b[0;32m   5564\u001b[0m     \u001b[1;32mif\u001b[0m \u001b[0msession\u001b[0m \u001b[1;32mis\u001b[0m \u001b[1;32mNone\u001b[0m\u001b[1;33m:\u001b[0m\u001b[1;33m\u001b[0m\u001b[1;33m\u001b[0m\u001b[0m\n\u001b[1;32m-> 5565\u001b[1;33m       raise ValueError(\"Cannot evaluate tensor using `eval()`: No default \"\n\u001b[0m\u001b[0;32m   5566\u001b[0m                        \u001b[1;34m\"session is registered. Use `with \"\u001b[0m\u001b[1;33m\u001b[0m\u001b[1;33m\u001b[0m\u001b[0m\n\u001b[0;32m   5567\u001b[0m                        \u001b[1;34m\"sess.as_default()` or pass an explicit session to \"\u001b[0m\u001b[1;33m\u001b[0m\u001b[1;33m\u001b[0m\u001b[0m\n",
      "\u001b[1;31mValueError\u001b[0m: Cannot evaluate tensor using `eval()`: No default session is registered. Use `with sess.as_default()` or pass an explicit session to `eval(session=sess)`"
     ]
    }
   ],
   "source": [
    "n_samples = len(X_train)\n",
    "training_epochs = 100\n",
    "batch_size = len(X_test)\n",
    "display_step = 1000\n",
    "\n",
    "\n",
    "basic_autoencoder = {}\n",
    "all_costs = []\n",
    "sparsity_num = 0.05\n",
    "hidden_num = 100\n",
    "autoencoder = kDenseAutoencoder(\n",
    "    n_input = X_train[:1].size,\n",
    "    n_hidden = hidden_num,\n",
    "    transfer_function = tf.nn.sigmoid,\n",
    "    optimizer = tf.train.AdamOptimizer(learning_rate = 0.001)\n",
    ")\n",
    "\n",
    "\n",
    "for epoch in range(training_epochs):\n",
    "    avg_cost = 0.\n",
    "    total_batch = int(n_samples / batch_size)\n",
    "    # Loop over all batches\n",
    "    for i in range(total_batch):\n",
    "        batch_xs = get_random_block_from_data(X_train, batch_size)\n",
    "\n",
    "        # Fit training using batch data\n",
    "        cost = autoencoder.partial_fit(batch_xs)\n",
    "        # Compute average loss\n",
    "        avg_cost += cost / n_samples * batch_size\n",
    "\n",
    "    # Display logs per epoch step\n",
    "    #if epoch % display_step == 0:\n",
    "    #    print(\"Epoch:\", '%04d' % (epoch + 1), \"cost=\", avg_cost)\n",
    "all_costs.append(autoencoder.calc_total_cost(X_test))\n",
    "print(\"Total cost (Hidden Units = \" + str(hidden_num) + \"): \" + str(autoencoder.calc_total_cost(X_test)))\n",
    "\n",
    "\n",
    "# 74.562\n"
   ]
  },
  {
   "cell_type": "code",
   "execution_count": null,
   "metadata": {},
   "outputs": [],
   "source": [
    "# Variational autoencoder\n",
    "Total cost (Hidden Units = 1): 87.12686\n",
    "Total cost (Hidden Units = 6): 83.75047\n",
    "Total cost (Hidden Units = 11): 82.09073\n",
    "Total cost (Hidden Units = 16): 80.74867\n",
    "Total cost (Hidden Units = 21): 80.19354\n",
    "Total cost (Hidden Units = 26): 79.23231\n",
    "Total cost (Hidden Units = 31): 79.08647\n",
    "Total cost (Hidden Units = 36): 77.94421\n",
    "Total cost (Hidden Units = 41): 77.53688\n",
    "Total cost (Hidden Units = 46): 76.85182\n",
    "Total cost (Hidden Units = 51): 77.1194\n",
    "Total cost (Hidden Units = 56): 75.572334\n",
    "Total cost (Hidden Units = 61): 76.04283\n",
    "Total cost (Hidden Units = 66): 74.790695\n",
    "Total cost (Hidden Units = 71): 75.11336\n",
    "Total cost (Hidden Units = 76): 75.03876\n",
    "Total cost (Hidden Units = 81): 75.84805\n",
    "Total cost (Hidden Units = 86): 74.59422\n",
    "Total cost (Hidden Units = 91): 74.66647\n",
    "Total cost (Hidden Units = 96): 74.657425\n",
    "# Basic Autoencoder \n",
    "Total cost (Hidden Units = 1): 87.176605\n",
    "Total cost (Hidden Units = 6): 83.64806\n",
    "Total cost (Hidden Units = 11): 81.6531\n",
    "Total cost (Hidden Units = 16): 80.75987\n",
    "Total cost (Hidden Units = 21): 80.132965\n",
    "Total cost (Hidden Units = 26): 78.96935\n",
    "Total cost (Hidden Units = 31): 78.31455\n",
    "Total cost (Hidden Units = 36): 77.46286\n",
    "Total cost (Hidden Units = 41): 77.34166\n",
    "Total cost (Hidden Units = 46): 77.263306\n",
    "Total cost (Hidden Units = 51): 76.36769\n",
    "Total cost (Hidden Units = 56): 75.74037\n",
    "Total cost (Hidden Units = 61): 74.98479\n",
    "Total cost (Hidden Units = 66): 75.19791\n",
    "Total cost (Hidden Units = 71): 75.20095\n",
    "Total cost (Hidden Units = 76): 75.1718\n",
    "Total cost (Hidden Units = 81): 74.44328\n",
    "Total cost (Hidden Units = 86): 74.15165\n",
    "Total cost (Hidden Units = 91): 73.71248\n",
    "Total cost (Hidden Units = 96): 74.32953"
   ]
  }
 ]
}